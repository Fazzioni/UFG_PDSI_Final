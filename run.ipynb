{
 "cells": [
  {
   "cell_type": "code",
   "execution_count": 1,
   "metadata": {},
   "outputs": [],
   "source": [
    "from src.detect import identifies_person, new_person\n",
    "from src.llm import prompt_person"
   ]
  },
  {
   "cell_type": "code",
   "execution_count": 2,
   "metadata": {},
   "outputs": [
    {
     "name": "stdout",
     "output_type": "stream",
     "text": [
      "Resposta do LLM:  None\n",
      "Resposta do LLM:  None\n",
      "Resposta do LLM:  None\n",
      "Resposta do LLM:  None\n",
      "Resposta do LLM:  None\n",
      "Resposta do LLM:  None\n",
      "Resposta do LLM:  None\n",
      "Resposta do LLM:  None\n",
      "Resposta do LLM:  None\n",
      "Resposta do LLM:  None\n"
     ]
    }
   ],
   "source": [
    "\n",
    "def gravar_audio():\n",
    "    return input()\n",
    "    pass\n",
    "\n",
    "def whisper(audio):\n",
    "    pass\n",
    "\n",
    "i = 10\n",
    "while i > 0:\n",
    "    i -= 1\n",
    "    \n",
    "    prompt = gravar_audio()\n",
    "    person = identifies_person(prompt)\n",
    "    content = whisper(prompt)\n",
    "\n",
    "    if content == \"Adicionar participantes\":\n",
    "        voz_nova = gravar_audio()\n",
    "        new_person(voz_nova)\n",
    "        continue\n",
    "\n",
    "    answer = prompt_person(person, content)\n",
    "\n",
    "    print(\"Resposta do LLM: \",answer)\n",
    "\n"
   ]
  },
  {
   "cell_type": "code",
   "execution_count": null,
   "metadata": {},
   "outputs": [],
   "source": [
    "\n"
   ]
  }
 ],
 "metadata": {
  "kernelspec": {
   "display_name": "Python 3",
   "language": "python",
   "name": "python3"
  },
  "language_info": {
   "codemirror_mode": {
    "name": "ipython",
    "version": 3
   },
   "file_extension": ".py",
   "mimetype": "text/x-python",
   "name": "python",
   "nbconvert_exporter": "python",
   "pygments_lexer": "ipython3",
   "version": "3.11.4"
  }
 },
 "nbformat": 4,
 "nbformat_minor": 2
}
